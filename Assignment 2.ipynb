{
 "cells": [
  {
   "cell_type": "code",
   "execution_count": null,
   "id": "e640619e",
   "metadata": {},
   "outputs": [],
   "source": [
    "1.What are the two values of the Boolean data type? How do you write them?\n",
    "Ans: Two values are = True/ False \n",
    "True=1\n",
    "False=0"
   ]
  },
  {
   "cell_type": "code",
   "execution_count": null,
   "id": "8087edb9",
   "metadata": {},
   "outputs": [],
   "source": []
  },
  {
   "cell_type": "code",
   "execution_count": null,
   "id": "a3705340",
   "metadata": {},
   "outputs": [],
   "source": []
  },
  {
   "cell_type": "code",
   "execution_count": null,
   "id": "617e47ae",
   "metadata": {},
   "outputs": [],
   "source": []
  },
  {
   "cell_type": "code",
   "execution_count": null,
   "id": "ad3ee236",
   "metadata": {},
   "outputs": [],
   "source": [
    "2.What are the three different types of Boolean operators?\n",
    "Ans: Three boolean operators are:\n",
    "AND\n",
    "OR\n",
    "NOT"
   ]
  },
  {
   "cell_type": "code",
   "execution_count": null,
   "id": "bbf1ad19",
   "metadata": {},
   "outputs": [],
   "source": [
    "3.Make a list of each Boolean operator's truth tables (i.e. every possible combination of Boolean values for the operator and what it evaluate ).\n",
    "Ans AND truth table\n",
    "a\tb\ta and b\n",
    "1\t1\t1\n",
    "1\t0\t0\n",
    "0\t1\t0\n",
    "0\t0\t0\n",
    "     OR truth table\n",
    "a\tb\ta or b\n",
    "1\t1\t1\n",
    "1\t0\t1\n",
    "0\t1\t1\n",
    "0\t0\t0\n",
    "Not Truth table\n",
    "a\tNot a\n",
    "1\t0\n",
    "0\t1"
   ]
  },
  {
   "cell_type": "code",
   "execution_count": null,
   "id": "9d2f931a",
   "metadata": {},
   "outputs": [],
   "source": [
    "4. What are the values of the following expressions?\n",
    "Ans: (5 > 4) and (3 == 5) =  False\n",
    "not (5 > 4) = False\n",
    "(5 > 4) or (3 == 5) =  True\n",
    "not ((5 > 4) or (3 == 5)) = False\n",
    "(True and True) and (True == False)  = False\n",
    "(not False) or (not True)  = True"
   ]
  },
  {
   "cell_type": "code",
   "execution_count": null,
   "id": "ca9235dd",
   "metadata": {},
   "outputs": [],
   "source": [
    "5.What are the six comparison operators?\n",
    "Ans Less than ( < ), less than or equal to ( <= ), greater than ( > ), greater than or equal to ( >= ), equal to ( == ), and not equal to ( != )."
   ]
  },
  {
   "cell_type": "code",
   "execution_count": null,
   "id": "51168881",
   "metadata": {},
   "outputs": [],
   "source": [
    "6.How do you tell the difference between the equal to and assignment operators?Describe a condition and when you would use one.\n",
    "Ans Assignment operator assign a value to the variable\n",
    "Example a= 10\n",
    "Means a is assigned a value 10\n",
    "Equal to operator checks weather the two operands are equal or not and than provide the value in True or False.\n",
    "Example 5==5 will give True\n",
    " 5== 3 will give False\n",
    "\n"
   ]
  },
  {
   "cell_type": "code",
   "execution_count": null,
   "id": "d2d851d0",
   "metadata": {},
   "outputs": [],
   "source": [
    "7. Identify the three blocks in this code:\n",
    "spam = 0\n",
    "if spam == 10:\n",
    "print('eggs')\n",
    "if spam > 5:\n",
    "print('bacon')\n",
    "else:\n",
    "print('ham')\n",
    "print('spam')\n",
    "print('spam')\n",
    "Ans ham\n",
    "Spam\n",
    "spam"
   ]
  },
  {
   "cell_type": "code",
   "execution_count": null,
   "id": "c2857f14",
   "metadata": {},
   "outputs": [],
   "source": [
    "8.Write code that prints Hello if 1 is stored in spam, prints Howdy if 2 is stored in spam, and prints Greetings! if anything else is stored in spam.\n",
    "Ans if spam==1:\n",
    "    print ('Hello')\n",
    "if spam==2:\n",
    "    Print('Howdy')\n",
    "else:\n",
    "       print('Greetings')\n"
   ]
  },
  {
   "cell_type": "code",
   "execution_count": null,
   "id": "3a01469d",
   "metadata": {},
   "outputs": [],
   "source": [
    "9.If your programme is stuck in an endless loop, what keys you’ll press?\n",
    "Ans Ctrl+c"
   ]
  },
  {
   "cell_type": "code",
   "execution_count": null,
   "id": "ab59cf3d",
   "metadata": {},
   "outputs": [],
   "source": [
    "10.How can you tell the difference between break and continue?\n",
    "Ans A break statement is used to terminate the loop whenever a particular condition is satisfied. The statement is there just next after the loop receives control of the program\n",
    "for char in \"Yashika\":\n",
    "    if char =='k':\n",
    "        break\n",
    "    print(char)\n",
    "print(\"over\")\n",
    "Output= y \n",
    "a\n",
    "s\n",
    "h\n",
    "i\n",
    "Over\n",
    "\n",
    "The continue statement skips the remaining lines of code, for the current iteration of the loop. In this case, the loop does not end, it continues with the next iteration.\n",
    "for char in \"Yashika\":\n",
    "    if char =='k':\n",
    "        continue\n",
    "    print(char)\n",
    "print(\"over\")\n",
    "Output\n",
    "Y\n",
    "A\n",
    "S\n",
    "h\n",
    "k\n",
    "A\n",
    "over"
   ]
  },
  {
   "cell_type": "code",
   "execution_count": null,
   "id": "a7bc20ac",
   "metadata": {},
   "outputs": [],
   "source": [
    "11. In a for loop, what is the difference between range(10), range(0, 10), and range(0, 10, 1)?\n",
    "Ans: range (10) will takes one argument\n",
    "    d=[0,1,2,3,4,5,6,7,8,9]\n",
    "    for d in range (10):\n",
    "        print (d)\n",
    "    0\n",
    "    1\n",
    "    2\n",
    "    3\n",
    "    4\n",
    "    5\n",
    "    6\n",
    "    7\n",
    "    8\n",
    "    9\n",
    "    range (0,10) will takes two arguments\n",
    "     d=[0,1,2,3,4,5,6,7,8,9]\n",
    "    for d in range (0,10):\n",
    "        print (d)\n",
    "    0\n",
    "    1\n",
    "    2\n",
    "    3\n",
    "    4\n",
    "    5\n",
    "    6\n",
    "    7\n",
    "    8\n",
    "    9     \n",
    "     range (0,10,1) will takes three arguments\n",
    "    The range(10) call ranges from 0 up to (but not including) 10, range(0, 10) tells the loop to start at 0, and range(0, 10, 1) tells the loop to increase the variable by 1 on each iteration."
   ]
  },
  {
   "cell_type": "code",
   "execution_count": null,
   "id": "347f5135",
   "metadata": {},
   "outputs": [],
   "source": [
    "12. Write a short program that prints the numbers 1 to 10 using a for loop. Then write an equivalent program that prints the numbers 1 to 10 using a while loop.\n",
    "ans: For loop-\n",
    "    for s in range(1,11):\n",
    "        print s\n",
    "    1\n",
    "    2\n",
    "    3\n",
    "    4\n",
    "    5\n",
    "    6\n",
    "    7\n",
    "    8\n",
    "    9\n",
    "    10\n",
    "     while loop-\n",
    "        i = 1\n",
    "        while(i<=10):\n",
    "            print(i)\n",
    "        i += 1\n",
    "        \n",
    "    1\n",
    "    2\n",
    "    3\n",
    "    4\n",
    "    5\n",
    "    6\n",
    "    7\n",
    "    8\n",
    "    9\n",
    "    10"
   ]
  },
  {
   "cell_type": "code",
   "execution_count": null,
   "id": "8ad90712",
   "metadata": {},
   "outputs": [],
   "source": [
    "13. If you had a function named bacon() inside a module named spam, how would you call it after importing spam?\n",
    "ans:This function can be called with spam.bacon()"
   ]
  }
 ],
 "metadata": {
  "kernelspec": {
   "display_name": "Python 3 (ipykernel)",
   "language": "python",
   "name": "python3"
  },
  "language_info": {
   "codemirror_mode": {
    "name": "ipython",
    "version": 3
   },
   "file_extension": ".py",
   "mimetype": "text/x-python",
   "name": "python",
   "nbconvert_exporter": "python",
   "pygments_lexer": "ipython3",
   "version": "3.9.7"
  }
 },
 "nbformat": 4,
 "nbformat_minor": 5
}
